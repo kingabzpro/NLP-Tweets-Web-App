{
 "metadata": {
  "language_info": {
   "codemirror_mode": {
    "name": "ipython",
    "version": 3
   },
   "file_extension": ".py",
   "mimetype": "text/x-python",
   "name": "python",
   "nbconvert_exporter": "python",
   "pygments_lexer": "ipython3",
   "version": "3.8.5-final"
  },
  "orig_nbformat": 2,
  "kernelspec": {
   "name": "python3",
   "display_name": "Python 3",
   "language": "python"
  }
 },
 "nbformat": 4,
 "nbformat_minor": 2,
 "cells": [
  {
   "source": [
    "# Data Analysis and Semtiment Analysis with Expert.Ai"
   ],
   "cell_type": "markdown",
   "metadata": {}
  },
  {
   "cell_type": "code",
   "execution_count": 14,
   "metadata": {},
   "outputs": [],
   "source": [
    "import pandas as pd\n",
    "import numpy as np\n",
    "from expertai.nlapi.edge.client import ExpertAiClient\n",
    "import os\n",
    "client = ExpertAiClient()"
   ]
  },
  {
   "cell_type": "code",
   "execution_count": 23,
   "metadata": {},
   "outputs": [
    {
     "output_type": "execute_result",
     "data": {
      "text/plain": [
       "       tweet_id airline_sentiment  airline_sentiment_confidence  \\\n",
       "0  5.703061e+17           neutral                        1.0000   \n",
       "1  5.703011e+17          positive                        0.3486   \n",
       "2  5.703011e+17           neutral                        0.6837   \n",
       "3  5.703010e+17          negative                        1.0000   \n",
       "4  5.703008e+17          negative                        1.0000   \n",
       "\n",
       "  negativereason  negativereason_confidence         airline        name  \\\n",
       "0            NaN                        NaN  Virgin America     cairdin   \n",
       "1            NaN                     0.0000  Virgin America    jnardino   \n",
       "2            NaN                        NaN  Virgin America  yvonnalynn   \n",
       "3     Bad Flight                     0.7033  Virgin America    jnardino   \n",
       "4     Can't Tell                     1.0000  Virgin America    jnardino   \n",
       "\n",
       "   retweet_count                                               text  \\\n",
       "0              0                @VirginAmerica What @dhepburn said.   \n",
       "1              0  @VirginAmerica plus you've added commercials t...   \n",
       "2              0  @VirginAmerica I didn't today... Must mean I n...   \n",
       "3              0  @VirginAmerica it's really aggressive to blast...   \n",
       "4              0  @VirginAmerica and it's a really big bad thing...   \n",
       "\n",
       "               tweet_created   latitude   longitude  \n",
       "0  2015-02-24 11:35:52 -0800  35.888455 -119.273781  \n",
       "1  2015-02-24 11:15:59 -0800  37.770971 -119.941025  \n",
       "2  2015-02-24 11:15:48 -0800  35.684863 -119.709299  \n",
       "3  2015-02-24 11:15:36 -0800  37.061159 -119.279135  \n",
       "4  2015-02-24 11:14:45 -0800  36.790587 -120.867752  "
      ],
      "text/html": "<div>\n<style scoped>\n    .dataframe tbody tr th:only-of-type {\n        vertical-align: middle;\n    }\n\n    .dataframe tbody tr th {\n        vertical-align: top;\n    }\n\n    .dataframe thead th {\n        text-align: right;\n    }\n</style>\n<table border=\"1\" class=\"dataframe\">\n  <thead>\n    <tr style=\"text-align: right;\">\n      <th></th>\n      <th>tweet_id</th>\n      <th>airline_sentiment</th>\n      <th>airline_sentiment_confidence</th>\n      <th>negativereason</th>\n      <th>negativereason_confidence</th>\n      <th>airline</th>\n      <th>name</th>\n      <th>retweet_count</th>\n      <th>text</th>\n      <th>tweet_created</th>\n      <th>latitude</th>\n      <th>longitude</th>\n    </tr>\n  </thead>\n  <tbody>\n    <tr>\n      <th>0</th>\n      <td>5.703061e+17</td>\n      <td>neutral</td>\n      <td>1.0000</td>\n      <td>NaN</td>\n      <td>NaN</td>\n      <td>Virgin America</td>\n      <td>cairdin</td>\n      <td>0</td>\n      <td>@VirginAmerica What @dhepburn said.</td>\n      <td>2015-02-24 11:35:52 -0800</td>\n      <td>35.888455</td>\n      <td>-119.273781</td>\n    </tr>\n    <tr>\n      <th>1</th>\n      <td>5.703011e+17</td>\n      <td>positive</td>\n      <td>0.3486</td>\n      <td>NaN</td>\n      <td>0.0000</td>\n      <td>Virgin America</td>\n      <td>jnardino</td>\n      <td>0</td>\n      <td>@VirginAmerica plus you've added commercials t...</td>\n      <td>2015-02-24 11:15:59 -0800</td>\n      <td>37.770971</td>\n      <td>-119.941025</td>\n    </tr>\n    <tr>\n      <th>2</th>\n      <td>5.703011e+17</td>\n      <td>neutral</td>\n      <td>0.6837</td>\n      <td>NaN</td>\n      <td>NaN</td>\n      <td>Virgin America</td>\n      <td>yvonnalynn</td>\n      <td>0</td>\n      <td>@VirginAmerica I didn't today... Must mean I n...</td>\n      <td>2015-02-24 11:15:48 -0800</td>\n      <td>35.684863</td>\n      <td>-119.709299</td>\n    </tr>\n    <tr>\n      <th>3</th>\n      <td>5.703010e+17</td>\n      <td>negative</td>\n      <td>1.0000</td>\n      <td>Bad Flight</td>\n      <td>0.7033</td>\n      <td>Virgin America</td>\n      <td>jnardino</td>\n      <td>0</td>\n      <td>@VirginAmerica it's really aggressive to blast...</td>\n      <td>2015-02-24 11:15:36 -0800</td>\n      <td>37.061159</td>\n      <td>-119.279135</td>\n    </tr>\n    <tr>\n      <th>4</th>\n      <td>5.703008e+17</td>\n      <td>negative</td>\n      <td>1.0000</td>\n      <td>Can't Tell</td>\n      <td>1.0000</td>\n      <td>Virgin America</td>\n      <td>jnardino</td>\n      <td>0</td>\n      <td>@VirginAmerica and it's a really big bad thing...</td>\n      <td>2015-02-24 11:14:45 -0800</td>\n      <td>36.790587</td>\n      <td>-120.867752</td>\n    </tr>\n  </tbody>\n</table>\n</div>"
     },
     "metadata": {},
     "execution_count": 23
    }
   ],
   "source": [
    "tweet=pd.read_csv(\"C:/Users/abida/OneDrive - Asia Pacific University/Documents/Gitlab/Airline-Tweets-NLP/Data/tweets.csv\")\n",
    "tweet.head()"
   ]
  },
  {
   "cell_type": "code",
   "execution_count": 36,
   "metadata": {},
   "outputs": [],
   "source": [
    "minitweet=tweet.iloc[0:5820,:]"
   ]
  },
  {
   "cell_type": "code",
   "execution_count": 24,
   "metadata": {},
   "outputs": [],
   "source": [
    "from tqdm import tqdm\n",
    "tqdm.pandas()\n"
   ]
  },
  {
   "cell_type": "code",
   "execution_count": 37,
   "metadata": {},
   "outputs": [
    {
     "output_type": "stream",
     "name": "stderr",
     "text": [
      "100%|██████████| 5820/5820 [1:19:25<00:00,  1.22it/s]\n",
      "100%|██████████| 5820/5820 [00:00<00:00, 291173.83it/s]\n"
     ]
    }
   ],
   "source": [
    "minitweet['expertai_sentiment']=minitweet['text'].progress_apply(client.sentiment).progress_apply(lambda x: x.sentiment.overall)"
   ]
  },
  {
   "cell_type": "code",
   "execution_count": 45,
   "metadata": {},
   "outputs": [
    {
     "output_type": "execute_result",
     "data": {
      "text/plain": [
       "       tweet_id airline_sentiment  airline_sentiment_confidence  \\\n",
       "0  5.703061e+17           neutral                        1.0000   \n",
       "1  5.703011e+17          positive                        0.3486   \n",
       "2  5.703011e+17           neutral                        0.6837   \n",
       "3  5.703010e+17          negative                        1.0000   \n",
       "4  5.703008e+17          negative                        1.0000   \n",
       "\n",
       "  negativereason  negativereason_confidence         airline        name  \\\n",
       "0            NaN                        NaN  Virgin America     cairdin   \n",
       "1            NaN                     0.0000  Virgin America    jnardino   \n",
       "2            NaN                        NaN  Virgin America  yvonnalynn   \n",
       "3     Bad Flight                     0.7033  Virgin America    jnardino   \n",
       "4     Can't Tell                     1.0000  Virgin America    jnardino   \n",
       "\n",
       "   retweet_count                                               text  \\\n",
       "0              0                @VirginAmerica What @dhepburn said.   \n",
       "1              0  @VirginAmerica plus you've added commercials t...   \n",
       "2              0  @VirginAmerica I didn't today... Must mean I n...   \n",
       "3              0  @VirginAmerica it's really aggressive to blast...   \n",
       "4              0  @VirginAmerica and it's a really big bad thing...   \n",
       "\n",
       "               tweet_created   latitude   longitude  expertai_sentiment  \n",
       "0  2015-02-24 11:35:52 -0800  35.888455 -119.273781                0.00  \n",
       "1  2015-02-24 11:15:59 -0800  37.770971 -119.941025                1.79  \n",
       "2  2015-02-24 11:15:48 -0800  35.684863 -119.709299               -7.69  \n",
       "3  2015-02-24 11:15:36 -0800  37.061159 -119.279135              -14.39  \n",
       "4  2015-02-24 11:14:45 -0800  36.790587 -120.867752              -48.40  "
      ],
      "text/html": "<div>\n<style scoped>\n    .dataframe tbody tr th:only-of-type {\n        vertical-align: middle;\n    }\n\n    .dataframe tbody tr th {\n        vertical-align: top;\n    }\n\n    .dataframe thead th {\n        text-align: right;\n    }\n</style>\n<table border=\"1\" class=\"dataframe\">\n  <thead>\n    <tr style=\"text-align: right;\">\n      <th></th>\n      <th>tweet_id</th>\n      <th>airline_sentiment</th>\n      <th>airline_sentiment_confidence</th>\n      <th>negativereason</th>\n      <th>negativereason_confidence</th>\n      <th>airline</th>\n      <th>name</th>\n      <th>retweet_count</th>\n      <th>text</th>\n      <th>tweet_created</th>\n      <th>latitude</th>\n      <th>longitude</th>\n      <th>expertai_sentiment</th>\n    </tr>\n  </thead>\n  <tbody>\n    <tr>\n      <th>0</th>\n      <td>5.703061e+17</td>\n      <td>neutral</td>\n      <td>1.0000</td>\n      <td>NaN</td>\n      <td>NaN</td>\n      <td>Virgin America</td>\n      <td>cairdin</td>\n      <td>0</td>\n      <td>@VirginAmerica What @dhepburn said.</td>\n      <td>2015-02-24 11:35:52 -0800</td>\n      <td>35.888455</td>\n      <td>-119.273781</td>\n      <td>0.00</td>\n    </tr>\n    <tr>\n      <th>1</th>\n      <td>5.703011e+17</td>\n      <td>positive</td>\n      <td>0.3486</td>\n      <td>NaN</td>\n      <td>0.0000</td>\n      <td>Virgin America</td>\n      <td>jnardino</td>\n      <td>0</td>\n      <td>@VirginAmerica plus you've added commercials t...</td>\n      <td>2015-02-24 11:15:59 -0800</td>\n      <td>37.770971</td>\n      <td>-119.941025</td>\n      <td>1.79</td>\n    </tr>\n    <tr>\n      <th>2</th>\n      <td>5.703011e+17</td>\n      <td>neutral</td>\n      <td>0.6837</td>\n      <td>NaN</td>\n      <td>NaN</td>\n      <td>Virgin America</td>\n      <td>yvonnalynn</td>\n      <td>0</td>\n      <td>@VirginAmerica I didn't today... Must mean I n...</td>\n      <td>2015-02-24 11:15:48 -0800</td>\n      <td>35.684863</td>\n      <td>-119.709299</td>\n      <td>-7.69</td>\n    </tr>\n    <tr>\n      <th>3</th>\n      <td>5.703010e+17</td>\n      <td>negative</td>\n      <td>1.0000</td>\n      <td>Bad Flight</td>\n      <td>0.7033</td>\n      <td>Virgin America</td>\n      <td>jnardino</td>\n      <td>0</td>\n      <td>@VirginAmerica it's really aggressive to blast...</td>\n      <td>2015-02-24 11:15:36 -0800</td>\n      <td>37.061159</td>\n      <td>-119.279135</td>\n      <td>-14.39</td>\n    </tr>\n    <tr>\n      <th>4</th>\n      <td>5.703008e+17</td>\n      <td>negative</td>\n      <td>1.0000</td>\n      <td>Can't Tell</td>\n      <td>1.0000</td>\n      <td>Virgin America</td>\n      <td>jnardino</td>\n      <td>0</td>\n      <td>@VirginAmerica and it's a really big bad thing...</td>\n      <td>2015-02-24 11:14:45 -0800</td>\n      <td>36.790587</td>\n      <td>-120.867752</td>\n      <td>-48.40</td>\n    </tr>\n  </tbody>\n</table>\n</div>"
     },
     "metadata": {},
     "execution_count": 45
    }
   ],
   "source": [
    "minitweet.head()"
   ]
  },
  {
   "cell_type": "code",
   "execution_count": 46,
   "metadata": {},
   "outputs": [],
   "source": [
    "emotions=[]\n",
    "for sentiment in minitweet['expertai_sentiment']:\n",
    "        if sentiment>2 and sentiment<25 :## emotions\n",
    "            emotions.append('Happy')\n",
    "        elif sentiment<-2 and sentiment>-25:\n",
    "            emotions.append('Sad')\n",
    "        elif sentiment<-25:\n",
    "            emotions.append('Awful')\n",
    "        elif sentiment>25:\n",
    "            emotions.append('awesome')\n",
    "        else:\n",
    "            emotions.append('Meh')"
   ]
  },
  {
   "cell_type": "code",
   "execution_count": 47,
   "metadata": {},
   "outputs": [],
   "source": [
    "minitweet['emotions']=emotions"
   ]
  },
  {
   "cell_type": "code",
   "execution_count": 48,
   "metadata": {},
   "outputs": [],
   "source": [
    "def emo(sentiment):\n",
    "    if sentiment>2 and sentiment<25 :## emotions\n",
    "        return 'Happy'\n",
    "    elif sentiment<-2 and sentiment>-25:\n",
    "        return 'Sad'\n",
    "    elif sentiment<-25:\n",
    "        return 'Awful'\n",
    "    elif sentiment>25:\n",
    "        return 'awesome'\n",
    "    else:\n",
    "        return 'Meh'"
   ]
  },
  {
   "cell_type": "code",
   "execution_count": 51,
   "metadata": {},
   "outputs": [
    {
     "output_type": "stream",
     "name": "stderr",
     "text": [
      "100%|██████████| 5820/5820 [00:00<00:00, 264676.50it/s]\n"
     ]
    }
   ],
   "source": [
    "minitweet['emotions']=minitweet['expertai_sentiment'].progress_apply(emo)"
   ]
  },
  {
   "cell_type": "code",
   "execution_count": 52,
   "metadata": {},
   "outputs": [],
   "source": [
    "minitweet.to_csv('expertaitweets.csv',index=False)"
   ]
  }
 ]
}